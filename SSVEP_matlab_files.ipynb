{
  "nbformat": 4,
  "nbformat_minor": 0,
  "metadata": {
    "colab": {
      "name": "SSVEP_matlab_files",
      "provenance": [],
      "collapsed_sections": []
    },
    "kernelspec": {
      "name": "python3",
      "display_name": "Python 3"
    },
    "language_info": {
      "name": "python"
    }
  },
  "cells": [
    {
      "cell_type": "code",
      "metadata": {
        "colab": {
          "base_uri": "https://localhost:8080/"
        },
        "id": "xAUxi6tLgceG",
        "outputId": "d53c2012-73a3-479a-8308-9932c075b3a6"
      },
      "source": [
        "link = \"http://bci.med.tsinghua.edu.cn/upload/yijun/S1.mat.7z\"\n",
        "!wget http://bci.med.tsinghua.edu.cn/upload/yijun/S1.mat.7z"
      ],
      "execution_count": null,
      "outputs": [
        {
          "output_type": "stream",
          "name": "stdout",
          "text": [
            "--2021-10-10 23:20:57--  http://bci.med.tsinghua.edu.cn/upload/yijun/S1.mat.7z\n",
            "Resolving bci.med.tsinghua.edu.cn (bci.med.tsinghua.edu.cn)... 101.6.6.219\n",
            "Connecting to bci.med.tsinghua.edu.cn (bci.med.tsinghua.edu.cn)|101.6.6.219|:80... connected.\n",
            "HTTP request sent, awaiting response... 200 OK\n",
            "Length: 105644644 (101M) [application/x-7z-compressed]\n",
            "Saving to: ‘S1.mat.7z’\n",
            "\n",
            "S1.mat.7z           100%[===================>] 100.75M  14.0MB/s    in 8.7s    \n",
            "\n",
            "2021-10-10 23:21:06 (11.6 MB/s) - ‘S1.mat.7z’ saved [105644644/105644644]\n",
            "\n"
          ]
        }
      ]
    },
    {
      "cell_type": "code",
      "metadata": {
        "id": "thvfhqIj0vaz"
      },
      "source": [
        ""
      ],
      "execution_count": null,
      "outputs": []
    },
    {
      "cell_type": "code",
      "metadata": {
        "colab": {
          "base_uri": "https://localhost:8080/"
        },
        "id": "TCMpB_hhggpg",
        "outputId": "5652a528-fdf2-4796-80c9-f6945e8dd775"
      },
      "source": [
        "!7z e /content/S1.mat.7z"
      ],
      "execution_count": null,
      "outputs": [
        {
          "output_type": "stream",
          "name": "stdout",
          "text": [
            "\n",
            "7-Zip [64] 16.02 : Copyright (c) 1999-2016 Igor Pavlov : 2016-05-21\n",
            "p7zip Version 16.02 (locale=en_US.UTF-8,Utf16=on,HugeFiles=on,64 bits,2 CPUs Intel(R) Xeon(R) CPU @ 2.20GHz (406F0),ASM,AES-NI)\n",
            "\n",
            "Scanning the drive for archives:\n",
            "  0M Scan /content/\b\b\b\b\b\b\b\b\b\b\b\b\b\b\b\b\b\b\b                   \b\b\b\b\b\b\b\b\b\b\b\b\b\b\b\b\b\b\b1 file, 105644644 bytes (101 MiB)\n",
            "\n",
            "Extracting archive: /content/S1.mat.7z\n",
            "--\n",
            "Path = /content/S1.mat.7z\n",
            "Type = 7z\n",
            "Physical Size = 105644644\n",
            "Headers Size = 122\n",
            "Method = LZMA2:24\n",
            "Solid = -\n",
            "Blocks = 1\n",
            "\n",
            "  0%\b\b\b\b    \b\b\b\b  2% - S1.mat\b\b\b\b\b\b\b\b\b\b\b\b\b             \b\b\b\b\b\b\b\b\b\b\b\b\b  6% - S1.mat\b\b\b\b\b\b\b\b\b\b\b\b\b             \b\b\b\b\b\b\b\b\b\b\b\b\b  9% - S1.mat\b\b\b\b\b\b\b\b\b\b\b\b\b             \b\b\b\b\b\b\b\b\b\b\b\b\b 12% - S1.mat\b\b\b\b\b\b\b\b\b\b\b\b\b             \b\b\b\b\b\b\b\b\b\b\b\b\b 15% - S1.mat\b\b\b\b\b\b\b\b\b\b\b\b\b             \b\b\b\b\b\b\b\b\b\b\b\b\b 18% - S1.mat\b\b\b\b\b\b\b\b\b\b\b\b\b             \b\b\b\b\b\b\b\b\b\b\b\b\b 21% - S1.mat\b\b\b\b\b\b\b\b\b\b\b\b\b             \b\b\b\b\b\b\b\b\b\b\b\b\b 24% - S1.mat\b\b\b\b\b\b\b\b\b\b\b\b\b             \b\b\b\b\b\b\b\b\b\b\b\b\b 27% - S1.mat\b\b\b\b\b\b\b\b\b\b\b\b\b             \b\b\b\b\b\b\b\b\b\b\b\b\b 30% - S1.mat\b\b\b\b\b\b\b\b\b\b\b\b\b             \b\b\b\b\b\b\b\b\b\b\b\b\b 33% - S1.mat\b\b\b\b\b\b\b\b\b\b\b\b\b             \b\b\b\b\b\b\b\b\b\b\b\b\b 36% - S1.mat\b\b\b\b\b\b\b\b\b\b\b\b\b             \b\b\b\b\b\b\b\b\b\b\b\b\b 39% - S1.mat\b\b\b\b\b\b\b\b\b\b\b\b\b             \b\b\b\b\b\b\b\b\b\b\b\b\b 42% - S1.mat\b\b\b\b\b\b\b\b\b\b\b\b\b             \b\b\b\b\b\b\b\b\b\b\b\b\b 45% - S1.mat\b\b\b\b\b\b\b\b\b\b\b\b\b             \b\b\b\b\b\b\b\b\b\b\b\b\b 48% - S1.mat\b\b\b\b\b\b\b\b\b\b\b\b\b             \b\b\b\b\b\b\b\b\b\b\b\b\b 51% - S1.mat\b\b\b\b\b\b\b\b\b\b\b\b\b             \b\b\b\b\b\b\b\b\b\b\b\b\b 54% - S1.mat\b\b\b\b\b\b\b\b\b\b\b\b\b             \b\b\b\b\b\b\b\b\b\b\b\b\b 57% - S1.mat\b\b\b\b\b\b\b\b\b\b\b\b\b             \b\b\b\b\b\b\b\b\b\b\b\b\b 60% - S1.mat\b\b\b\b\b\b\b\b\b\b\b\b\b             \b\b\b\b\b\b\b\b\b\b\b\b\b 63% - S1.mat\b\b\b\b\b\b\b\b\b\b\b\b\b             \b\b\b\b\b\b\b\b\b\b\b\b\b 67% - S1.mat\b\b\b\b\b\b\b\b\b\b\b\b\b             \b\b\b\b\b\b\b\b\b\b\b\b\b 70% - S1.mat\b\b\b\b\b\b\b\b\b\b\b\b\b             \b\b\b\b\b\b\b\b\b\b\b\b\b 73% - S1.mat\b\b\b\b\b\b\b\b\b\b\b\b\b             \b\b\b\b\b\b\b\b\b\b\b\b\b 76% - S1.mat\b\b\b\b\b\b\b\b\b\b\b\b\b             \b\b\b\b\b\b\b\b\b\b\b\b\b 79% - S1.mat\b\b\b\b\b\b\b\b\b\b\b\b\b             \b\b\b\b\b\b\b\b\b\b\b\b\b 82% - S1.mat\b\b\b\b\b\b\b\b\b\b\b\b\b             \b\b\b\b\b\b\b\b\b\b\b\b\b 85% - S1.mat\b\b\b\b\b\b\b\b\b\b\b\b\b             \b\b\b\b\b\b\b\b\b\b\b\b\b 88% - S1.mat\b\b\b\b\b\b\b\b\b\b\b\b\b             \b\b\b\b\b\b\b\b\b\b\b\b\b 91% - S1.mat\b\b\b\b\b\b\b\b\b\b\b\b\b             \b\b\b\b\b\b\b\b\b\b\b\b\b 94% - S1.mat\b\b\b\b\b\b\b\b\b\b\b\b\b             \b\b\b\b\b\b\b\b\b\b\b\b\b 97% - S1.mat\b\b\b\b\b\b\b\b\b\b\b\b\b             \b\b\b\b\b\b\b\b\b\b\b\b\b100% 1\b\b\b\b\b\b      \b\b\b\b\b\bEverything is Ok\n",
            "\n",
            "Size:       105899195\n",
            "Compressed: 105644644\n"
          ]
        }
      ]
    },
    {
      "cell_type": "code",
      "metadata": {
        "colab": {
          "base_uri": "https://localhost:8080/"
        },
        "id": "nHX-kO7Rg76Z",
        "outputId": "f173f7c5-9da6-4694-b267-e18aa6ed307d"
      },
      "source": [
        "import scipy.io\n",
        "file = \"/content/S1.mat\"\n",
        "data = scipy.io.loadmat(file)\n",
        "type(data)\n",
        "data.keys()\n",
        "data[\"data\"].shape\n",
        "# channel × time point × block × condition"
      ],
      "execution_count": null,
      "outputs": [
        {
          "output_type": "execute_result",
          "data": {
            "text/plain": [
              "(64, 1500, 40, 6)"
            ]
          },
          "metadata": {},
          "execution_count": 11
        }
      ]
    },
    {
      "cell_type": "code",
      "metadata": {
        "colab": {
          "base_uri": "https://localhost:8080/"
        },
        "id": "YK1Yybxaiqu0",
        "outputId": "a8095207-af96-4c0e-8c41-c17a597df0e6"
      },
      "source": [
        "data.keys()\n",
        "data[\"__header__\"]"
      ],
      "execution_count": null,
      "outputs": [
        {
          "output_type": "execute_result",
          "data": {
            "text/plain": [
              "b'MATLAB 5.0 MAT-file, Platform: PCWIN64, Created on: Mon Mar 21 10:13:25 2016'"
            ]
          },
          "metadata": {},
          "execution_count": 13
        }
      ]
    },
    {
      "cell_type": "code",
      "metadata": {
        "id": "sTbTV1GXiztU"
      },
      "source": [
        "data[\"data\"]"
      ],
      "execution_count": null,
      "outputs": []
    },
    {
      "cell_type": "code",
      "metadata": {
        "colab": {
          "base_uri": "https://localhost:8080/"
        },
        "id": "3fWfHHLBi6WT",
        "outputId": "f9d7b955-39bd-42c4-86d4-012140e3739c"
      },
      "source": [
        "!wget http://bci.med.tsinghua.edu.cn/upload/yijun/64-channels.loc"
      ],
      "execution_count": null,
      "outputs": [
        {
          "output_type": "stream",
          "name": "stdout",
          "text": [
            "--2021-10-10 23:31:12--  http://bci.med.tsinghua.edu.cn/upload/yijun/64-channels.loc\n",
            "Resolving bci.med.tsinghua.edu.cn (bci.med.tsinghua.edu.cn)... 101.6.6.219\n",
            "Connecting to bci.med.tsinghua.edu.cn (bci.med.tsinghua.edu.cn)|101.6.6.219|:80... connected.\n",
            "HTTP request sent, awaiting response... 200 OK\n",
            "Length: 1982 (1.9K) [application/octet-stream]\n",
            "Saving to: ‘64-channels.loc’\n",
            "\n",
            "64-channels.loc     100%[===================>]   1.94K  --.-KB/s    in 0s      \n",
            "\n",
            "2021-10-10 23:31:12 (222 MB/s) - ‘64-channels.loc’ saved [1982/1982]\n",
            "\n"
          ]
        }
      ]
    },
    {
      "cell_type": "code",
      "metadata": {
        "colab": {
          "base_uri": "https://localhost:8080/"
        },
        "id": "IR_Ler6pjUAE",
        "outputId": "d3b3db3e-3c02-4168-abc6-2cc62d77657c"
      },
      "source": [
        "import pandas as pd\n",
        "f = pd.read_csv(\"64-channels.loc\", sep=\"\\t\", header=None)\n",
        "f.iloc[:,3]"
      ],
      "execution_count": null,
      "outputs": [
        {
          "output_type": "execute_result",
          "data": {
            "text/plain": [
              "0          FP1\n",
              "1          FPZ\n",
              "2          FP2\n",
              "3          AF3\n",
              "4          AF4\n",
              "        ...   \n",
              "59         CB1\n",
              "60          O1\n",
              "61          Oz\n",
              "62          O2\n",
              "63         CB2\n",
              "Name: 3, Length: 64, dtype: object"
            ]
          },
          "metadata": {},
          "execution_count": 24
        }
      ]
    }
  ]
}